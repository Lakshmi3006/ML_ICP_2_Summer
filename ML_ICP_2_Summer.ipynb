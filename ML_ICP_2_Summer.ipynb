{
 "cells": [
  {
   "cell_type": "code",
   "execution_count": 6,
   "id": "af48dbf4",
   "metadata": {},
   "outputs": [
    {
     "name": "stdout",
     "output_type": "stream",
     "text": [
      "*\n",
      "**\n",
      "***\n",
      "****\n",
      "*****\n",
      "****\n",
      "***\n",
      "**\n",
      "*\n"
     ]
    }
   ],
   "source": [
    "def star_pattern(n):\n",
    "    # Upper part of Pascal Triangle\n",
    "    for i in range(1, n + 1):\n",
    "        print('*' * i)\n",
    "    # Lower part of Pascal Triangle\n",
    "    for i in range(n - 1, 0, -1):\n",
    "        print('*' * i)\n",
    "\n",
    "# Call the function with the desired number of rows\n",
    "star_pattern(5)\n"
   ]
  },
  {
   "cell_type": "code",
   "execution_count": 2,
   "id": "8220122f",
   "metadata": {},
   "outputs": [
    {
     "name": "stdout",
     "output_type": "stream",
     "text": [
      "20\n",
      "40\n",
      "60\n",
      "80\n",
      "100\n"
     ]
    }
   ],
   "source": [
    "# Provided list\n",
    "my_list = [10, 20, 30, 40, 50, 60, 70, 80, 90, 100]\n",
    "\n",
    "# Loop through the list and print elements at odd indexes\n",
    "for index in range(len(my_list)):\n",
    "    if index % 2 != 0:  # Check if the index is odd\n",
    "        print(my_list[index])\n"
   ]
  },
  {
   "cell_type": "code",
   "execution_count": 3,
   "id": "d379d788",
   "metadata": {},
   "outputs": [
    {
     "name": "stdout",
     "output_type": "stream",
     "text": [
      "[23, 'Python', 23.98]\n",
      "[<class 'int'>, <class 'str'>, <class 'float'>]\n"
     ]
    }
   ],
   "source": [
    "# Given list\n",
    "x = [23, 'Python', 23.98]\n",
    "\n",
    "# Print the original list\n",
    "print(x)\n",
    "\n",
    "# Create a new list to store the types of the elements\n",
    "types = [type(element) for element in x]\n",
    "\n",
    "# Print the list of types\n",
    "print(types)\n"
   ]
  },
  {
   "cell_type": "code",
   "execution_count": 4,
   "id": "9d6ddb3a",
   "metadata": {},
   "outputs": [
    {
     "name": "stdout",
     "output_type": "stream",
     "text": [
      "[1, 2, 3, 4, 5]\n"
     ]
    }
   ],
   "source": [
    "def get_unique_items(input_list):\n",
    "    # Convert the list to a set to remove duplicates, then back to a list\n",
    "    unique_list = list(set(input_list))\n",
    "    return unique_list\n",
    "\n",
    "# Sample list\n",
    "sample_list = [1, 2, 3, 3, 3, 3, 4, 5]\n",
    "\n",
    "# Get the unique list\n",
    "unique_list = get_unique_items(sample_list)\n",
    "\n",
    "# Print the unique list\n",
    "print(unique_list)\n"
   ]
  },
  {
   "cell_type": "code",
   "execution_count": 5,
   "id": "7807d359",
   "metadata": {},
   "outputs": [
    {
     "name": "stdout",
     "output_type": "stream",
     "text": [
      "No. of Upper-case characters: 3\n",
      "No. of Lower-case characters: 12\n"
     ]
    }
   ],
   "source": [
    "def count_upper_and_lower(s):\n",
    "    upper_count = 0\n",
    "    lower_count = 0\n",
    "    \n",
    "    for char in s:\n",
    "        if char.isupper():\n",
    "            upper_count += 1\n",
    "        elif char.islower():\n",
    "            lower_count += 1\n",
    "    \n",
    "    return upper_count, lower_count\n",
    "\n",
    "# Sample input\n",
    "input_string = 'The quick Brow Fox'\n",
    "\n",
    "# Get the counts of upper-case and lower-case characters\n",
    "upper_count, lower_count = count_upper_and_lower(input_string)\n",
    "\n",
    "# Print the results\n",
    "print(f\"No. of Upper-case characters: {upper_count}\")\n",
    "print(f\"No. of Lower-case characters: {lower_count}\")\n"
   ]
  },
  {
   "cell_type": "code",
   "execution_count": null,
   "id": "abcc1d9f",
   "metadata": {},
   "outputs": [],
   "source": []
  }
 ],
 "metadata": {
  "kernelspec": {
   "display_name": "Python 3 (ipykernel)",
   "language": "python",
   "name": "python3"
  },
  "language_info": {
   "codemirror_mode": {
    "name": "ipython",
    "version": 3
   },
   "file_extension": ".py",
   "mimetype": "text/x-python",
   "name": "python",
   "nbconvert_exporter": "python",
   "pygments_lexer": "ipython3",
   "version": "3.11.4"
  }
 },
 "nbformat": 4,
 "nbformat_minor": 5
}
